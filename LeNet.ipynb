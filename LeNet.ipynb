{
 "cells": [
  {
   "cell_type": "code",
   "execution_count": 10,
   "metadata": {},
   "outputs": [],
   "source": [
    "import torch\n",
    "import numpy as np\n",
    "import random\n",
    "\n",
    "def set_all_seeds(seed=0):\n",
    "    random.seed(seed)\n",
    "    np.random.seed(seed)\n",
    "    torch.manual_seed(seed)\n",
    "    torch.cuda.manual_seed(seed)\n",
    "    torch.cuda.manual_seed_all(seed)  # if you are using multi-GPU.\n",
    "    torch.backends.cudnn.deterministic = True\n",
    "    torch.backends.cudnn.benchmark = False\n",
    "\n",
    "set_all_seeds(0)"
   ]
  },
  {
   "cell_type": "code",
   "execution_count": 11,
   "metadata": {},
   "outputs": [],
   "source": [
    "from torchvision.datasets import MNIST"
   ]
  },
  {
   "cell_type": "code",
   "execution_count": 12,
   "metadata": {},
   "outputs": [],
   "source": [
    "MNIST_train = MNIST(root=\"./data\", train=True, download=True)\n",
    "MNIST_test = MNIST(root=\"./data\", train=False, download=True)"
   ]
  },
  {
   "cell_type": "code",
   "execution_count": 13,
   "metadata": {},
   "outputs": [
    {
     "name": "stdout",
     "output_type": "stream",
     "text": [
      "torch.Size([60000, 28, 28]) torch.Size([60000]) <- train dataset X and y\n",
      "torch.Size([10000, 28, 28]) torch.Size([10000]) <- test dataset X and y\n",
      "torch.uint8 torch.int64 <- training data type\n"
     ]
    }
   ],
   "source": [
    "X_train = MNIST_train.train_data\n",
    "y_train = MNIST_train.targets\n",
    "X_test = MNIST_test.test_data\n",
    "y_test = MNIST_test.test_labels\n",
    "\n",
    "print(X_train.shape, y_train.shape, \"<- train dataset X and y\")\n",
    "print(X_test.shape, y_test.shape, \"<- test dataset X and y\")\n",
    "\n",
    "print(X_train.dtype, y_train.dtype, \"<- training data type\")"
   ]
  },
  {
   "cell_type": "code",
   "execution_count": 14,
   "metadata": {},
   "outputs": [],
   "source": [
    "X_train = X_train.float()\n",
    "y_train = y_train.float()\n",
    "X_test = X_test.float()\n",
    "y_test = y_test.float()"
   ]
  },
  {
   "cell_type": "code",
   "execution_count": 15,
   "metadata": {},
   "outputs": [
    {
     "data": {
      "image/png": "[encoded data removed]",
      "text/plain": [
       "<Figure size 640x480 with 1 Axes>"
      ]
     },
     "metadata": {},
     "output_type": "display_data"
    },
    {
     "name": "stdout",
     "output_type": "stream",
     "text": [
      "tensor(2.)\n"
     ]
    }
   ],
   "source": [
    "import matplotlib.pyplot as plt\n",
    "\n",
    "index = 5\n",
    "\n",
    "plt.imshow(X_train[index, :, :])\n",
    "plt.show()\n",
    "print(y_train[index])"
   ]
  },
  {
   "cell_type": "code",
   "execution_count": 17,
   "metadata": {},
   "outputs": [],
   "source": [
    "class LeNet5(torch.nn.Module):\n",
    "    def __init__(self):\n",
    "        super(LeNet5, self).__init__()\n",
    "        self.conv1 = torch.nn.Conv2d(in_channels=1, out_channels=6, kernel_size=(5,5), padding=(2,2))\n",
    "        self.act1  = torch.nn.Tanh()\n",
    "        self.pool1 = torch.nn.AvgPool2d(kernel_size=(2,2), stride=(2,2))\n",
    "        \n",
    "        self.conv2 = torch.nn.Conv2d(in_channels=6, out_channels=16, kernel_size=(5,5), padding=(0,0))\n",
    "        self.act2  = torch.nn.Tanh()\n",
    "        self.pool2 = torch.nn.AvgPool2d(kernel_size=2, stride=2)\n",
    "        \n",
    "        self.conv3 = torch.nn.Conv2d(in_channels=16, out_channels=120, kernel_size=(5,5), padding=(0,0))\n",
    "        self.act3  = torch.nn.Tanh()\n",
    "        \n",
    "        self.flat = torch.nn.Flatten(1, -1)\n",
    "\n",
    "        self.fc1 = torch.nn.Linear(in_features=120, out_features=84)\n",
    "        self.act4 = torch.nn.Tanh()\n",
    "\n",
    "        self.fc2 = torch.nn.Linear(in_features=84, out_features=10)\n",
    "\n",
    "        \n",
    "    def forward(self, x):\n",
    "        x = self.conv1(x)\n",
    "        x = self.act1(x)\n",
    "        x = self.pool1(x)\n",
    "        \n",
    "        x = self.conv2(x)\n",
    "        x = self.act2(x)\n",
    "        x = self.pool2(x)\n",
    "        \n",
    "        x = self.conv3(x)\n",
    "        x = self.act3(x)\n",
    "        \n",
    "        x = self.flat(x)\n",
    "        x = self.fc1(x)\n",
    "        x = self.act4(x)\n",
    "        x = self.fc2(x)\n",
    "        \n",
    "        return x\n",
    "    \n"
   ]
  },
  {
   "cell_type": "code",
   "execution_count": 18,
   "metadata": {},
   "outputs": [],
   "source": [
    "lenet5 = LeNet5()"
   ]
  },
  {
   "cell_type": "code",
   "execution_count": 19,
   "metadata": {},
   "outputs": [
    {
     "data": {
      "text/plain": [
       "torch.Size([10000, 28, 28])"
      ]
     },
     "execution_count": 19,
     "metadata": {},
     "output_type": "execute_result"
    }
   ],
   "source": [
    "X_test.shape"
   ]
  },
  {
   "cell_type": "code",
   "execution_count": 20,
   "metadata": {},
   "outputs": [
    {
     "data": {
      "text/plain": [
       "torch.Size([10000, 28, 28])"
      ]
     },
     "execution_count": 20,
     "metadata": {},
     "output_type": "execute_result"
    }
   ],
   "source": [
    "X_test.shape"
   ]
  },
  {
   "cell_type": "code",
   "execution_count": 21,
   "metadata": {},
   "outputs": [],
   "source": [
    "X_train = X_train.unsqueeze(1)\n",
    "X_test = X_test.unsqueeze(1)"
   ]
  },
  {
   "cell_type": "code",
   "execution_count": 22,
   "metadata": {},
   "outputs": [
    {
     "data": {
      "text/plain": [
       "torch.Size([60000, 1, 28, 28])"
      ]
     },
     "execution_count": 22,
     "metadata": {},
     "output_type": "execute_result"
    }
   ],
   "source": [
    "X_train.shape"
   ]
  },
  {
   "cell_type": "code",
   "execution_count": 23,
   "metadata": {},
   "outputs": [
    {
     "data": {
      "text/plain": [
       "torch.Size([10000, 1, 28, 28])"
      ]
     },
     "execution_count": 23,
     "metadata": {},
     "output_type": "execute_result"
    }
   ],
   "source": [
    "X_test.shape"
   ]
  },
  {
   "cell_type": "code",
   "execution_count": 24,
   "metadata": {},
   "outputs": [
    {
     "data": {
      "text/plain": [
       "tensor([[-0.0550, -0.0551,  0.0339,  ...,  0.0046,  0.0005,  0.0686],\n",
       "        [ 0.0117, -0.0563, -0.0023,  ...,  0.0620, -0.0239,  0.0170],\n",
       "        [ 0.0091, -0.0887,  0.0200,  ...,  0.0417,  0.0288,  0.0640],\n",
       "        ...,\n",
       "        [ 0.0079, -0.1448, -0.0396,  ...,  0.0355,  0.0222,  0.0545],\n",
       "        [ 0.0144, -0.0694,  0.0463,  ...,  0.0297,  0.0236,  0.0387],\n",
       "        [ 0.0431, -0.1347, -0.0168,  ...,  0.0519,  0.0373,  0.0473]],\n",
       "       grad_fn=<AddmmBackward0>)"
      ]
     },
     "execution_count": 24,
     "metadata": {},
     "output_type": "execute_result"
    }
   ],
   "source": [
    "lenet5(X_test)"
   ]
  },
  {
   "cell_type": "code",
   "execution_count": null,
   "metadata": {},
   "outputs": [],
   "source": []
  },
  {
   "cell_type": "code",
   "execution_count": 25,
   "metadata": {},
   "outputs": [],
   "source": [
    "mnist_net = LeNet5()\n",
    "loss = torch.nn.CrossEntropyLoss()\n",
    "optimizer = torch.optim.Adam(mnist_net.parameters(), lr=1e-3)"
   ]
  },
  {
   "cell_type": "code",
   "execution_count": 26,
   "metadata": {},
   "outputs": [
    {
     "name": "stdout",
     "output_type": "stream",
     "text": [
      "Epoch 1/30, Train Loss: 0.2594, Train Accuracy: 0.9265, Test Loss: 0.0822, Test Accuracy: 0.9746\n",
      "Epoch 2/30, Train Loss: 0.0720, Train Accuracy: 0.9780, Test Loss: 0.0523, Test Accuracy: 0.9832\n",
      "Epoch 3/30, Train Loss: 0.0532, Train Accuracy: 0.9836, Test Loss: 0.0530, Test Accuracy: 0.9825\n",
      "Epoch 4/30, Train Loss: 0.0422, Train Accuracy: 0.9868, Test Loss: 0.0464, Test Accuracy: 0.9854\n",
      "Epoch 5/30, Train Loss: 0.0351, Train Accuracy: 0.9889, Test Loss: 0.0425, Test Accuracy: 0.9868\n",
      "Epoch 6/30, Train Loss: 0.0291, Train Accuracy: 0.9910, Test Loss: 0.0412, Test Accuracy: 0.9866\n",
      "Epoch 7/30, Train Loss: 0.0256, Train Accuracy: 0.9919, Test Loss: 0.0417, Test Accuracy: 0.9861\n",
      "Epoch 8/30, Train Loss: 0.0226, Train Accuracy: 0.9930, Test Loss: 0.0338, Test Accuracy: 0.9894\n",
      "Epoch 9/30, Train Loss: 0.0185, Train Accuracy: 0.9938, Test Loss: 0.0390, Test Accuracy: 0.9882\n",
      "Epoch 10/30, Train Loss: 0.0162, Train Accuracy: 0.9948, Test Loss: 0.0508, Test Accuracy: 0.9839\n",
      "Epoch 11/30, Train Loss: 0.0146, Train Accuracy: 0.9957, Test Loss: 0.0497, Test Accuracy: 0.9853\n",
      "Epoch 12/30, Train Loss: 0.0157, Train Accuracy: 0.9948, Test Loss: 0.0415, Test Accuracy: 0.9874\n",
      "Epoch 13/30, Train Loss: 0.0132, Train Accuracy: 0.9954, Test Loss: 0.0385, Test Accuracy: 0.9888\n",
      "Epoch 14/30, Train Loss: 0.0110, Train Accuracy: 0.9966, Test Loss: 0.0401, Test Accuracy: 0.9880\n",
      "Epoch 15/30, Train Loss: 0.0103, Train Accuracy: 0.9965, Test Loss: 0.0417, Test Accuracy: 0.9877\n",
      "Epoch 16/30, Train Loss: 0.0085, Train Accuracy: 0.9973, Test Loss: 0.0410, Test Accuracy: 0.9879\n",
      "Epoch 17/30, Train Loss: 0.0105, Train Accuracy: 0.9964, Test Loss: 0.0529, Test Accuracy: 0.9866\n",
      "Epoch 18/30, Train Loss: 0.0095, Train Accuracy: 0.9968, Test Loss: 0.0371, Test Accuracy: 0.9900\n",
      "Epoch 19/30, Train Loss: 0.0098, Train Accuracy: 0.9967, Test Loss: 0.0426, Test Accuracy: 0.9889\n",
      "Epoch 20/30, Train Loss: 0.0075, Train Accuracy: 0.9975, Test Loss: 0.0396, Test Accuracy: 0.9889\n",
      "Epoch 21/30, Train Loss: 0.0047, Train Accuracy: 0.9984, Test Loss: 0.0454, Test Accuracy: 0.9878\n",
      "Epoch 22/30, Train Loss: 0.0070, Train Accuracy: 0.9977, Test Loss: 0.0406, Test Accuracy: 0.9891\n",
      "Epoch 23/30, Train Loss: 0.0065, Train Accuracy: 0.9979, Test Loss: 0.0440, Test Accuracy: 0.9882\n",
      "Epoch 24/30, Train Loss: 0.0078, Train Accuracy: 0.9974, Test Loss: 0.0431, Test Accuracy: 0.9890\n",
      "Epoch 25/30, Train Loss: 0.0061, Train Accuracy: 0.9979, Test Loss: 0.0497, Test Accuracy: 0.9886\n",
      "Epoch 26/30, Train Loss: 0.0072, Train Accuracy: 0.9976, Test Loss: 0.0487, Test Accuracy: 0.9881\n",
      "Epoch 27/30, Train Loss: 0.0066, Train Accuracy: 0.9979, Test Loss: 0.0440, Test Accuracy: 0.9893\n",
      "Epoch 28/30, Train Loss: 0.0044, Train Accuracy: 0.9986, Test Loss: 0.0440, Test Accuracy: 0.9894\n",
      "Epoch 29/30, Train Loss: 0.0039, Train Accuracy: 0.9987, Test Loss: 0.0411, Test Accuracy: 0.9906\n",
      "Epoch 30/30, Train Loss: 0.0060, Train Accuracy: 0.9980, Test Loss: 0.0497, Test Accuracy: 0.9879\n"
     ]
    }
   ],
   "source": [
    "# Training parameters\n",
    "batch_size = 100\n",
    "n_epochs = 30\n",
    "\n",
    "train_loss_history = []\n",
    "train_accuracy_history = []\n",
    "test_loss_history = []\n",
    "test_accuracy_history = []\n",
    "\n",
    "\n",
    "def model_eval(net, X_test, y_test):\n",
    "    net.eval()\n",
    "    test_loss = 0.0\n",
    "    correct = 0\n",
    "    total = 0\n",
    "\n",
    "    with torch.no_grad():\n",
    "        test_preds = net(X_test)\n",
    "        test_loss = loss(test_preds, y_test.long()).item() * X_test.size(0)\n",
    "        _, predicted = torch.max(test_preds, 1)\n",
    "        total += y_test.size(0)\n",
    "        correct += (predicted == y_test).sum().item()\n",
    "\n",
    "    test_loss /= total\n",
    "    test_accuracy = correct / total\n",
    "    return test_loss, test_accuracy\n",
    "\n",
    "\n",
    "for epoch in range(n_epochs):\n",
    "    mnist_net.train()\n",
    "    order = np.random.permutation(len(X_train))\n",
    "    running_loss = 0.0\n",
    "    correct = 0\n",
    "    total = 0\n",
    "\n",
    "    for start_index in range(0, len(order), batch_size):\n",
    "        indice = order[start_index : start_index + batch_size]\n",
    "        X_batch = X_train[indice]\n",
    "        y_batch = y_train[indice].long()\n",
    "\n",
    "        batch_preds = mnist_net(X_batch)\n",
    "        loss_val = loss(batch_preds, y_batch)\n",
    "\n",
    "        optimizer.zero_grad()\n",
    "        loss_val.backward()\n",
    "        optimizer.step()\n",
    "\n",
    "        running_loss += loss_val.item() * X_batch.size(0)\n",
    "        _, predicted = torch.max(batch_preds, 1)\n",
    "        total += y_batch.size(0)\n",
    "        correct += (predicted == y_batch).sum().item()\n",
    "\n",
    "    train_loss = running_loss / total\n",
    "    train_accuracy = correct / total\n",
    "    train_loss_history.append(train_loss)\n",
    "    train_accuracy_history.append(train_accuracy)\n",
    "\n",
    "    test_loss, test_accuracy = model_eval(mnist_net, X_test, y_test)\n",
    "    test_loss_history.append(test_loss)\n",
    "    test_accuracy_history.append(test_accuracy)\n",
    "\n",
    "    print(\n",
    "        f\"Epoch {epoch+1}/{n_epochs}, Train Loss: {train_loss:.4f}, Train Accuracy: {train_accuracy:.4f}, Test Loss: {test_loss:.4f}, Test Accuracy: {test_accuracy:.4f}\"\n",
    "    )"
   ]
  },
  {
   "cell_type": "code",
   "execution_count": 27,
   "metadata": {},
   "outputs": [
    {
     "name": "stdout",
     "output_type": "stream",
     "text": [
      "Accuracy on test: 0.9879\n"
     ]
    }
   ],
   "source": [
    "print(\"Accuracy on test:\", model_eval(mnist_net, X_test, y_test)[1])"
   ]
  },
  {
   "cell_type": "code",
   "execution_count": 28,
   "metadata": {},
   "outputs": [
    {
     "data": {
      "text/plain": [
       "[<matplotlib.lines.Line2D at 0x1e3083810d0>]"
      ]
     },
     "execution_count": 28,
     "metadata": {},
     "output_type": "execute_result"
    },
    {
     "data": {
      "image/png": "[encoded data removed]",
      "text/plain": [
       "<Figure size 640x480 with 1 Axes>"
      ]
     },
     "metadata": {},
     "output_type": "display_data"
    }
   ],
   "source": [
    "plt.plot(train_loss_history)\n",
    "plt.plot(test_loss_history)"
   ]
  },
  {
   "cell_type": "code",
   "execution_count": 29,
   "metadata": {},
   "outputs": [
    {
     "data": {
      "text/plain": [
       "[<matplotlib.lines.Line2D at 0x1e308753c80>]"
      ]
     },
     "execution_count": 29,
     "metadata": {},
     "output_type": "execute_result"
    },
    {
     "data": {
      "image/png": "[encoded data removed]",
      "text/plain": [
       "<Figure size 640x480 with 1 Axes>"
      ]
     },
     "metadata": {},
     "output_type": "display_data"
    }
   ],
   "source": [
    "plt.plot(train_accuracy_history)\n",
    "plt.plot(test_accuracy_history)"
   ]
  }
 ],
 "metadata": {
  "kernelspec": {
   "display_name": ".venv",
   "language": "python",
   "name": "python3"
  },
  "language_info": {
   "codemirror_mode": {
    "name": "ipython",
    "version": 3
   },
   "file_extension": ".py",
   "mimetype": "text/x-python",
   "name": "python",
   "nbconvert_exporter": "python",
   "pygments_lexer": "ipython3",
   "version": "3.12.3"
  }
 },
 "nbformat": 4,
 "nbformat_minor": 2
}
