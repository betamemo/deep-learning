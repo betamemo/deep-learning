{
 "cells": [
  {
   "cell_type": "code",
   "execution_count": 54,
   "metadata": {},
   "outputs": [],
   "source": [
    "import torch"
   ]
  },
  {
   "cell_type": "code",
   "execution_count": 55,
   "metadata": {},
   "outputs": [],
   "source": [
    "#constant\n",
    "x1 = torch.tensor([2.])\n",
    "x2 = torch.tensor([-1.])"
   ]
  },
  {
   "cell_type": "code",
   "execution_count": 56,
   "metadata": {},
   "outputs": [],
   "source": [
    "# variable\n",
    "b1 = torch.tensor([3.], requires_grad=True)\n",
    "b2 = torch.tensor([2.], requires_grad=True)\n",
    "c1 = torch.tensor([-3.], requires_grad=True)\n",
    "c2 = torch.tensor([0.5], requires_grad=True)"
   ]
  },
  {
   "cell_type": "code",
   "execution_count": 57,
   "metadata": {},
   "outputs": [],
   "source": [
    "z1 = x1 + b1 \n",
    "z2 = x2 + b2 \n",
    "z3 = torch.sigmoid(z1)\n",
    "z4 = torch.sigmoid(z2)\n",
    "z5 = torch.tanh(z2)\n",
    "z6 = z5 * c2 \n",
    "z7 = z1 * z4 \n",
    "z8 = z7 * c1 \n",
    "z9 = z3 + z6\n",
    "y = z8 + z9"
   ]
  },
  {
   "cell_type": "code",
   "execution_count": 58,
   "metadata": {},
   "outputs": [],
   "source": [
    "z1.retain_grad()\n",
    "z2.retain_grad()\n",
    "z3.retain_grad()\n",
    "z4.retain_grad()\n",
    "z5.retain_grad()\n",
    "z6.retain_grad()\n",
    "z7.retain_grad()\n",
    "z8.retain_grad()\n",
    "z9.retain_grad()\n",
    "y.retain_grad()"
   ]
  },
  {
   "cell_type": "code",
   "execution_count": 59,
   "metadata": {},
   "outputs": [
    {
     "name": "stdout",
     "output_type": "stream",
     "text": [
      "z1 tensor([5.], grad_fn=<AddBackward0>)\n",
      "z2 tensor([1.], grad_fn=<AddBackward0>)\n",
      "z3 tensor([0.9933], grad_fn=<SigmoidBackward0>)\n",
      "z4 tensor([0.7311], grad_fn=<SigmoidBackward0>)\n",
      "z5 tensor([0.7616], grad_fn=<TanhBackward0>)\n",
      "z6 tensor([0.3808], grad_fn=<MulBackward0>)\n",
      "z7 tensor([3.6553], grad_fn=<MulBackward0>)\n",
      "z8 tensor([-10.9659], grad_fn=<MulBackward0>)\n",
      "z9 tensor([1.3741], grad_fn=<AddBackward0>)\n",
      "y tensor([-9.5918], grad_fn=<AddBackward0>)\n"
     ]
    }
   ],
   "source": [
    "print('z1', z1)\n",
    "print('z2', z2)\n",
    "print('z3', z3)\n",
    "print('z4', z4)\n",
    "print('z5', z5)\n",
    "print('z6', z6)\n",
    "print('z7', z7)\n",
    "print('z8', z8)\n",
    "print('z9', z9)\n",
    "print('y', y)"
   ]
  },
  {
   "cell_type": "code",
   "execution_count": 60,
   "metadata": {},
   "outputs": [],
   "source": [
    "y.backward()"
   ]
  },
  {
   "cell_type": "code",
   "execution_count": 61,
   "metadata": {},
   "outputs": [
    {
     "name": "stdout",
     "output_type": "stream",
     "text": [
      "x1 None\n"
     ]
    }
   ],
   "source": [
    "print('x1', x1.grad) # None because it is not var"
   ]
  },
  {
   "cell_type": "code",
   "execution_count": 62,
   "metadata": {},
   "outputs": [
    {
     "name": "stdout",
     "output_type": "stream",
     "text": [
      "b1 tensor([-2.1865])\n",
      "b2 tensor([-2.7392])\n",
      "c1 tensor([3.6553])\n",
      "c2 tensor([0.7616])\n"
     ]
    }
   ],
   "source": [
    "print('b1', b1.grad)\n",
    "print('b2', b2.grad)\n",
    "print('c1', c1.grad)\n",
    "print('c2', c2.grad)"
   ]
  },
  {
   "cell_type": "code",
   "execution_count": 63,
   "metadata": {},
   "outputs": [
    {
     "name": "stdout",
     "output_type": "stream",
     "text": [
      "z1 tensor([-2.1865])\n",
      "z2 tensor([-2.7392])\n",
      "z3 tensor([1.])\n",
      "z4 tensor([-15.])\n",
      "z5 tensor([0.5000])\n",
      "z6 tensor([1.])\n",
      "z7 tensor([-3.])\n",
      "z8 tensor([1.])\n",
      "z9 tensor([1.])\n",
      "y tensor([1.])\n"
     ]
    }
   ],
   "source": [
    "print('z1', z1.grad)\n",
    "print('z2', z2.grad)\n",
    "print('z3', z3.grad)\n",
    "print('z4', z4.grad)\n",
    "print('z5', z5.grad)\n",
    "print('z6', z6.grad)\n",
    "print('z7', z7.grad)\n",
    "print('z8', z8.grad)\n",
    "print('z9', z9.grad)\n",
    "print('y', y.grad)\n"
   ]
  }
 ],
 "metadata": {
  "kernelspec": {
   "display_name": "Python 3",
   "language": "python",
   "name": "python3"
  },
  "language_info": {
   "codemirror_mode": {
    "name": "ipython",
    "version": 3
   },
   "file_extension": ".py",
   "mimetype": "text/x-python",
   "name": "python",
   "nbconvert_exporter": "python",
   "pygments_lexer": "ipython3",
   "version": "3.12.3"
  }
 },
 "nbformat": 4,
 "nbformat_minor": 2
}
